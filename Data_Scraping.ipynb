{
  "nbformat": 4,
  "nbformat_minor": 0,
  "metadata": {
    "colab": {
      "provenance": []
    },
    "kernelspec": {
      "name": "python3",
      "display_name": "Python 3"
    },
    "language_info": {
      "name": "python"
    }
  },
  "cells": [
    {
      "cell_type": "code",
      "execution_count": null,
      "metadata": {
        "id": "G_ssXG2ufSDU"
      },
      "outputs": [],
      "source": [
        "import pandas as pd\n",
        "import time\n",
        "import datetime as dt\n",
        "import requests"
      ]
    },
    {
      "cell_type": "code",
      "source": [
        "pip install praw"
      ],
      "metadata": {
        "id": "25Qg1xFDf_zb",
        "colab": {
          "base_uri": "https://localhost:8080/"
        },
        "outputId": "7c5168e1-09ca-4e9c-9712-ab4a7f3b059b"
      },
      "execution_count": null,
      "outputs": [
        {
          "output_type": "stream",
          "name": "stdout",
          "text": [
            "Collecting praw\n",
            "  Downloading praw-7.7.1-py3-none-any.whl (191 kB)\n",
            "\u001b[2K     \u001b[90m━━━━━━━━━━━━━━━━━━━━━━━━━━━━━━━━━━━━━━━━\u001b[0m \u001b[32m191.0/191.0 kB\u001b[0m \u001b[31m2.6 MB/s\u001b[0m eta \u001b[36m0:00:00\u001b[0m\n",
            "\u001b[?25hCollecting prawcore<3,>=2.1 (from praw)\n",
            "  Downloading prawcore-2.4.0-py3-none-any.whl (17 kB)\n",
            "Collecting update-checker>=0.18 (from praw)\n",
            "  Downloading update_checker-0.18.0-py3-none-any.whl (7.0 kB)\n",
            "Requirement already satisfied: websocket-client>=0.54.0 in /usr/local/lib/python3.10/dist-packages (from praw) (1.6.4)\n",
            "Requirement already satisfied: requests<3.0,>=2.6.0 in /usr/local/lib/python3.10/dist-packages (from prawcore<3,>=2.1->praw) (2.31.0)\n",
            "Requirement already satisfied: charset-normalizer<4,>=2 in /usr/local/lib/python3.10/dist-packages (from requests<3.0,>=2.6.0->prawcore<3,>=2.1->praw) (3.3.2)\n",
            "Requirement already satisfied: idna<4,>=2.5 in /usr/local/lib/python3.10/dist-packages (from requests<3.0,>=2.6.0->prawcore<3,>=2.1->praw) (3.6)\n",
            "Requirement already satisfied: urllib3<3,>=1.21.1 in /usr/local/lib/python3.10/dist-packages (from requests<3.0,>=2.6.0->prawcore<3,>=2.1->praw) (2.0.7)\n",
            "Requirement already satisfied: certifi>=2017.4.17 in /usr/local/lib/python3.10/dist-packages (from requests<3.0,>=2.6.0->prawcore<3,>=2.1->praw) (2023.11.17)\n",
            "Installing collected packages: update-checker, prawcore, praw\n",
            "Successfully installed praw-7.7.1 prawcore-2.4.0 update-checker-0.18.0\n"
          ]
        }
      ]
    },
    {
      "cell_type": "code",
      "source": [
        "import praw\n",
        "\n",
        "reddit = praw.Reddit(client_id='UivD6uTwrIFCPBQqLnNnYQ', client_secret='zHR40zhJg85s3N3m3bl-6Yt-YS6NEA', user_agent='Anushruti Huilgol',username='AryaStark0102',password='Srigovind@1996')"
      ],
      "metadata": {
        "id": "hapbWkfQgddq"
      },
      "execution_count": null,
      "outputs": []
    },
    {
      "cell_type": "markdown",
      "source": [],
      "metadata": {
        "id": "6FKQzHN71DEB"
      }
    },
    {
      "cell_type": "markdown",
      "source": [
        "##Amazon Data Collection"
      ],
      "metadata": {
        "id": "dyu2WtNy1DJw"
      }
    },
    {
      "cell_type": "code",
      "source": [
        "posts = []\n",
        "\n",
        "file = open(\"amazon.txt\",\"a\")\n",
        "ml_subreddit = reddit.subreddit('amazonemployees')\n",
        "for post in ml_subreddit.new(limit=None):\n",
        "    posts.append([post.title, post.selftext])\n",
        "    file.write(post.selftext)\n",
        "    file.write(\"\\n\")\n",
        "posts = pd.DataFrame(posts,columns=['title','body'])\n"
      ],
      "metadata": {
        "id": "kUUinfFzj1-v",
        "colab": {
          "base_uri": "https://localhost:8080/"
        },
        "outputId": "c8576cb2-7c85-4698-f03f-637faa8ccdaa"
      },
      "execution_count": null,
      "outputs": [
        {
          "output_type": "stream",
          "name": "stderr",
          "text": [
            "WARNING:praw:It appears that you are using PRAW in an asynchronous environment.\n",
            "It is strongly recommended to use Async PRAW: https://asyncpraw.readthedocs.io.\n",
            "See https://praw.readthedocs.io/en/latest/getting_started/multiple_instances.html#discord-bots-and-asynchronous-environments for more info.\n",
            "\n",
            "WARNING:praw:It appears that you are using PRAW in an asynchronous environment.\n",
            "It is strongly recommended to use Async PRAW: https://asyncpraw.readthedocs.io.\n",
            "See https://praw.readthedocs.io/en/latest/getting_started/multiple_instances.html#discord-bots-and-asynchronous-environments for more info.\n",
            "\n",
            "WARNING:praw:It appears that you are using PRAW in an asynchronous environment.\n",
            "It is strongly recommended to use Async PRAW: https://asyncpraw.readthedocs.io.\n",
            "See https://praw.readthedocs.io/en/latest/getting_started/multiple_instances.html#discord-bots-and-asynchronous-environments for more info.\n",
            "\n",
            "WARNING:praw:It appears that you are using PRAW in an asynchronous environment.\n",
            "It is strongly recommended to use Async PRAW: https://asyncpraw.readthedocs.io.\n",
            "See https://praw.readthedocs.io/en/latest/getting_started/multiple_instances.html#discord-bots-and-asynchronous-environments for more info.\n",
            "\n",
            "WARNING:praw:It appears that you are using PRAW in an asynchronous environment.\n",
            "It is strongly recommended to use Async PRAW: https://asyncpraw.readthedocs.io.\n",
            "See https://praw.readthedocs.io/en/latest/getting_started/multiple_instances.html#discord-bots-and-asynchronous-environments for more info.\n",
            "\n",
            "WARNING:praw:It appears that you are using PRAW in an asynchronous environment.\n",
            "It is strongly recommended to use Async PRAW: https://asyncpraw.readthedocs.io.\n",
            "See https://praw.readthedocs.io/en/latest/getting_started/multiple_instances.html#discord-bots-and-asynchronous-environments for more info.\n",
            "\n",
            "WARNING:praw:It appears that you are using PRAW in an asynchronous environment.\n",
            "It is strongly recommended to use Async PRAW: https://asyncpraw.readthedocs.io.\n",
            "See https://praw.readthedocs.io/en/latest/getting_started/multiple_instances.html#discord-bots-and-asynchronous-environments for more info.\n",
            "\n",
            "WARNING:praw:It appears that you are using PRAW in an asynchronous environment.\n",
            "It is strongly recommended to use Async PRAW: https://asyncpraw.readthedocs.io.\n",
            "See https://praw.readthedocs.io/en/latest/getting_started/multiple_instances.html#discord-bots-and-asynchronous-environments for more info.\n",
            "\n",
            "WARNING:praw:It appears that you are using PRAW in an asynchronous environment.\n",
            "It is strongly recommended to use Async PRAW: https://asyncpraw.readthedocs.io.\n",
            "See https://praw.readthedocs.io/en/latest/getting_started/multiple_instances.html#discord-bots-and-asynchronous-environments for more info.\n",
            "\n",
            "WARNING:praw:It appears that you are using PRAW in an asynchronous environment.\n",
            "It is strongly recommended to use Async PRAW: https://asyncpraw.readthedocs.io.\n",
            "See https://praw.readthedocs.io/en/latest/getting_started/multiple_instances.html#discord-bots-and-asynchronous-environments for more info.\n",
            "\n"
          ]
        }
      ]
    },
    {
      "cell_type": "code",
      "source": [
        "posts=[]\n",
        "\n",
        "file = open(\"amazon.txt\",\"a\")\n",
        "ml_subreddit = reddit.subreddit('FASCAmazon')\n",
        "for post in ml_subreddit.new(limit=None):\n",
        "    posts.append([post.title, post.selftext])\n",
        "    file.write(post.selftext)\n",
        "    file.write(\"\\n\")\n",
        "\n",
        "posts = pd.DataFrame(posts,columns=['title','body'])\n"
      ],
      "metadata": {
        "id": "ydyruNM8TSPb",
        "colab": {
          "base_uri": "https://localhost:8080/"
        },
        "outputId": "8cee34b5-ee8c-4857-bf5f-49cbf6ba2d01"
      },
      "execution_count": null,
      "outputs": [
        {
          "output_type": "stream",
          "name": "stderr",
          "text": [
            "WARNING:praw:It appears that you are using PRAW in an asynchronous environment.\n",
            "It is strongly recommended to use Async PRAW: https://asyncpraw.readthedocs.io.\n",
            "See https://praw.readthedocs.io/en/latest/getting_started/multiple_instances.html#discord-bots-and-asynchronous-environments for more info.\n",
            "\n",
            "WARNING:praw:It appears that you are using PRAW in an asynchronous environment.\n",
            "It is strongly recommended to use Async PRAW: https://asyncpraw.readthedocs.io.\n",
            "See https://praw.readthedocs.io/en/latest/getting_started/multiple_instances.html#discord-bots-and-asynchronous-environments for more info.\n",
            "\n",
            "WARNING:praw:It appears that you are using PRAW in an asynchronous environment.\n",
            "It is strongly recommended to use Async PRAW: https://asyncpraw.readthedocs.io.\n",
            "See https://praw.readthedocs.io/en/latest/getting_started/multiple_instances.html#discord-bots-and-asynchronous-environments for more info.\n",
            "\n",
            "WARNING:praw:It appears that you are using PRAW in an asynchronous environment.\n",
            "It is strongly recommended to use Async PRAW: https://asyncpraw.readthedocs.io.\n",
            "See https://praw.readthedocs.io/en/latest/getting_started/multiple_instances.html#discord-bots-and-asynchronous-environments for more info.\n",
            "\n",
            "WARNING:praw:It appears that you are using PRAW in an asynchronous environment.\n",
            "It is strongly recommended to use Async PRAW: https://asyncpraw.readthedocs.io.\n",
            "See https://praw.readthedocs.io/en/latest/getting_started/multiple_instances.html#discord-bots-and-asynchronous-environments for more info.\n",
            "\n",
            "WARNING:praw:It appears that you are using PRAW in an asynchronous environment.\n",
            "It is strongly recommended to use Async PRAW: https://asyncpraw.readthedocs.io.\n",
            "See https://praw.readthedocs.io/en/latest/getting_started/multiple_instances.html#discord-bots-and-asynchronous-environments for more info.\n",
            "\n",
            "WARNING:praw:It appears that you are using PRAW in an asynchronous environment.\n",
            "It is strongly recommended to use Async PRAW: https://asyncpraw.readthedocs.io.\n",
            "See https://praw.readthedocs.io/en/latest/getting_started/multiple_instances.html#discord-bots-and-asynchronous-environments for more info.\n",
            "\n",
            "WARNING:praw:It appears that you are using PRAW in an asynchronous environment.\n",
            "It is strongly recommended to use Async PRAW: https://asyncpraw.readthedocs.io.\n",
            "See https://praw.readthedocs.io/en/latest/getting_started/multiple_instances.html#discord-bots-and-asynchronous-environments for more info.\n",
            "\n",
            "WARNING:praw:It appears that you are using PRAW in an asynchronous environment.\n",
            "It is strongly recommended to use Async PRAW: https://asyncpraw.readthedocs.io.\n",
            "See https://praw.readthedocs.io/en/latest/getting_started/multiple_instances.html#discord-bots-and-asynchronous-environments for more info.\n",
            "\n",
            "WARNING:praw:It appears that you are using PRAW in an asynchronous environment.\n",
            "It is strongly recommended to use Async PRAW: https://asyncpraw.readthedocs.io.\n",
            "See https://praw.readthedocs.io/en/latest/getting_started/multiple_instances.html#discord-bots-and-asynchronous-environments for more info.\n",
            "\n"
          ]
        }
      ]
    },
    {
      "cell_type": "code",
      "source": [
        "file = open(\"amazon.txt\",\"r\")\n",
        "data = file.readlines()\n",
        "\n",
        "print(len(data))"
      ],
      "metadata": {
        "colab": {
          "base_uri": "https://localhost:8080/"
        },
        "id": "pXzCd4qH1VQA",
        "outputId": "7e9345d1-2734-4bc3-8060-c24a3c23de87"
      },
      "execution_count": null,
      "outputs": [
        {
          "output_type": "stream",
          "name": "stdout",
          "text": [
            "4424\n"
          ]
        }
      ]
    },
    {
      "cell_type": "markdown",
      "source": [
        "##Deloitte Data Collection"
      ],
      "metadata": {
        "id": "2Q02xpf65ogH"
      }
    },
    {
      "cell_type": "code",
      "source": [
        "posts = []\n",
        "\n",
        "file = open(\"deloitte.txt\",\"a\")\n",
        "ml_subreddit = reddit.subreddit('deloitte')\n",
        "for post in ml_subreddit.new(limit=None):\n",
        "    posts.append([post.title, post.selftext])\n",
        "    file.write(post.selftext)\n",
        "    file.write(\"\\n\")\n",
        "posts = pd.DataFrame(posts,columns=['title','body'])"
      ],
      "metadata": {
        "id": "zqCSzQlX1q2i",
        "colab": {
          "base_uri": "https://localhost:8080/"
        },
        "outputId": "2dd5b71a-03f7-41e8-f612-fada14cc655c"
      },
      "execution_count": null,
      "outputs": [
        {
          "output_type": "stream",
          "name": "stderr",
          "text": [
            "WARNING:praw:It appears that you are using PRAW in an asynchronous environment.\n",
            "It is strongly recommended to use Async PRAW: https://asyncpraw.readthedocs.io.\n",
            "See https://praw.readthedocs.io/en/latest/getting_started/multiple_instances.html#discord-bots-and-asynchronous-environments for more info.\n",
            "\n",
            "WARNING:praw:It appears that you are using PRAW in an asynchronous environment.\n",
            "It is strongly recommended to use Async PRAW: https://asyncpraw.readthedocs.io.\n",
            "See https://praw.readthedocs.io/en/latest/getting_started/multiple_instances.html#discord-bots-and-asynchronous-environments for more info.\n",
            "\n",
            "WARNING:praw:It appears that you are using PRAW in an asynchronous environment.\n",
            "It is strongly recommended to use Async PRAW: https://asyncpraw.readthedocs.io.\n",
            "See https://praw.readthedocs.io/en/latest/getting_started/multiple_instances.html#discord-bots-and-asynchronous-environments for more info.\n",
            "\n",
            "WARNING:praw:It appears that you are using PRAW in an asynchronous environment.\n",
            "It is strongly recommended to use Async PRAW: https://asyncpraw.readthedocs.io.\n",
            "See https://praw.readthedocs.io/en/latest/getting_started/multiple_instances.html#discord-bots-and-asynchronous-environments for more info.\n",
            "\n",
            "WARNING:praw:It appears that you are using PRAW in an asynchronous environment.\n",
            "It is strongly recommended to use Async PRAW: https://asyncpraw.readthedocs.io.\n",
            "See https://praw.readthedocs.io/en/latest/getting_started/multiple_instances.html#discord-bots-and-asynchronous-environments for more info.\n",
            "\n",
            "WARNING:praw:It appears that you are using PRAW in an asynchronous environment.\n",
            "It is strongly recommended to use Async PRAW: https://asyncpraw.readthedocs.io.\n",
            "See https://praw.readthedocs.io/en/latest/getting_started/multiple_instances.html#discord-bots-and-asynchronous-environments for more info.\n",
            "\n",
            "WARNING:praw:It appears that you are using PRAW in an asynchronous environment.\n",
            "It is strongly recommended to use Async PRAW: https://asyncpraw.readthedocs.io.\n",
            "See https://praw.readthedocs.io/en/latest/getting_started/multiple_instances.html#discord-bots-and-asynchronous-environments for more info.\n",
            "\n",
            "WARNING:praw:It appears that you are using PRAW in an asynchronous environment.\n",
            "It is strongly recommended to use Async PRAW: https://asyncpraw.readthedocs.io.\n",
            "See https://praw.readthedocs.io/en/latest/getting_started/multiple_instances.html#discord-bots-and-asynchronous-environments for more info.\n",
            "\n",
            "WARNING:praw:It appears that you are using PRAW in an asynchronous environment.\n",
            "It is strongly recommended to use Async PRAW: https://asyncpraw.readthedocs.io.\n",
            "See https://praw.readthedocs.io/en/latest/getting_started/multiple_instances.html#discord-bots-and-asynchronous-environments for more info.\n",
            "\n",
            "WARNING:praw:It appears that you are using PRAW in an asynchronous environment.\n",
            "It is strongly recommended to use Async PRAW: https://asyncpraw.readthedocs.io.\n",
            "See https://praw.readthedocs.io/en/latest/getting_started/multiple_instances.html#discord-bots-and-asynchronous-environments for more info.\n",
            "\n"
          ]
        }
      ]
    },
    {
      "cell_type": "code",
      "source": [
        "file = open(\"deloitte.txt\",\"r\")\n",
        "data = file.readlines()\n",
        "\n",
        "print(len(data))"
      ],
      "metadata": {
        "colab": {
          "base_uri": "https://localhost:8080/"
        },
        "id": "gdrCxNi510EF",
        "outputId": "67b6250a-c83d-4d5a-f049-5914ad40ff9d"
      },
      "execution_count": null,
      "outputs": [
        {
          "output_type": "stream",
          "name": "stdout",
          "text": [
            "4081\n"
          ]
        }
      ]
    },
    {
      "cell_type": "code",
      "source": [
        "subreddit = reddit.subreddit('Big4')\n",
        "posts = subreddit.search(\"deloitte\", sort='new', time_filter='all')\n",
        "file = open(\"deloitte.txt\",\"a\")\n",
        "for post in posts:\n",
        "    file.write(post.selftext)\n",
        "    file.write(\"\\n\")"
      ],
      "metadata": {
        "id": "sPh9B5Q_2etC",
        "colab": {
          "base_uri": "https://localhost:8080/"
        },
        "outputId": "0ac91e79-8265-4e01-c001-ceddb6bdf1df"
      },
      "execution_count": null,
      "outputs": [
        {
          "output_type": "stream",
          "name": "stderr",
          "text": [
            "WARNING:praw:It appears that you are using PRAW in an asynchronous environment.\n",
            "It is strongly recommended to use Async PRAW: https://asyncpraw.readthedocs.io.\n",
            "See https://praw.readthedocs.io/en/latest/getting_started/multiple_instances.html#discord-bots-and-asynchronous-environments for more info.\n",
            "\n"
          ]
        }
      ]
    },
    {
      "cell_type": "code",
      "source": [
        "subreddit = reddit.subreddit('Accounting')\n",
        "posts = subreddit.search(\"deloitte\", sort='new', time_filter='all')\n",
        "file = open(\"deloitte.txt\",\"a\")\n",
        "for post in posts:\n",
        "    file.write(post.selftext)\n",
        "    file.write(\"\\n\")"
      ],
      "metadata": {
        "id": "YIcOfEyq5mP_",
        "colab": {
          "base_uri": "https://localhost:8080/"
        },
        "outputId": "bcac4e6f-cf93-4c6a-869a-509793ad4d30"
      },
      "execution_count": null,
      "outputs": [
        {
          "output_type": "stream",
          "name": "stderr",
          "text": [
            "WARNING:praw:It appears that you are using PRAW in an asynchronous environment.\n",
            "It is strongly recommended to use Async PRAW: https://asyncpraw.readthedocs.io.\n",
            "See https://praw.readthedocs.io/en/latest/getting_started/multiple_instances.html#discord-bots-and-asynchronous-environments for more info.\n",
            "\n"
          ]
        }
      ]
    },
    {
      "cell_type": "markdown",
      "source": [
        "##Meta Data Collection"
      ],
      "metadata": {
        "id": "oCVxp0ye7nls"
      }
    },
    {
      "cell_type": "code",
      "source": [
        "subreddit = reddit.subreddit('cscareerquestions')\n",
        "posts = subreddit.search(\"meta\", sort='new', time_filter='all')\n",
        "file = open(\"meta.txt\",\"a\")\n",
        "for post in posts:\n",
        "    file.write(post.selftext)\n",
        "    file.write(\"\\n\")"
      ],
      "metadata": {
        "id": "X33XP9Xt6Ep9",
        "colab": {
          "base_uri": "https://localhost:8080/"
        },
        "outputId": "e013fa9d-5289-48c6-b2b1-d9f20d35c4a9"
      },
      "execution_count": null,
      "outputs": [
        {
          "output_type": "stream",
          "name": "stderr",
          "text": [
            "WARNING:praw:It appears that you are using PRAW in an asynchronous environment.\n",
            "It is strongly recommended to use Async PRAW: https://asyncpraw.readthedocs.io.\n",
            "See https://praw.readthedocs.io/en/latest/getting_started/multiple_instances.html#discord-bots-and-asynchronous-environments for more info.\n",
            "\n"
          ]
        }
      ]
    },
    {
      "cell_type": "code",
      "source": [
        "subreddit = reddit.subreddit('LinkedInLunatics')\n",
        "posts = subreddit.search(\"meta\", sort='new', time_filter='all')\n",
        "file = open(\"meta.txt\",\"a\")\n",
        "for post in posts:\n",
        "    file.write(post.selftext)\n",
        "    file.write(\"\\n\")"
      ],
      "metadata": {
        "id": "00gKpNds6amR",
        "colab": {
          "base_uri": "https://localhost:8080/"
        },
        "outputId": "43d5098b-d425-4dea-a7d9-f6137b3d02d7"
      },
      "execution_count": null,
      "outputs": [
        {
          "output_type": "stream",
          "name": "stderr",
          "text": [
            "WARNING:praw:It appears that you are using PRAW in an asynchronous environment.\n",
            "It is strongly recommended to use Async PRAW: https://asyncpraw.readthedocs.io.\n",
            "See https://praw.readthedocs.io/en/latest/getting_started/multiple_instances.html#discord-bots-and-asynchronous-environments for more info.\n",
            "\n"
          ]
        }
      ]
    },
    {
      "cell_type": "code",
      "source": [
        "subreddit = reddit.subreddit('ExperiencedDevs')\n",
        "posts = subreddit.search(\"meta\", sort='new', time_filter='all')\n",
        "file = open(\"meta.txt\",\"a\")\n",
        "for post in posts:\n",
        "    file.write(post.selftext)\n",
        "    file.write(\"\\n\")"
      ],
      "metadata": {
        "id": "DTZArOGr64Lm",
        "colab": {
          "base_uri": "https://localhost:8080/"
        },
        "outputId": "6c9e7f72-2280-4e7c-dd61-c6ad1e468ee4"
      },
      "execution_count": null,
      "outputs": [
        {
          "output_type": "stream",
          "name": "stderr",
          "text": [
            "WARNING:praw:It appears that you are using PRAW in an asynchronous environment.\n",
            "It is strongly recommended to use Async PRAW: https://asyncpraw.readthedocs.io.\n",
            "See https://praw.readthedocs.io/en/latest/getting_started/multiple_instances.html#discord-bots-and-asynchronous-environments for more info.\n",
            "\n"
          ]
        }
      ]
    },
    {
      "cell_type": "code",
      "source": [
        "subreddit = reddit.subreddit('csMajors')\n",
        "posts = subreddit.search(\"meta\", sort='new', time_filter='all')\n",
        "file = open(\"meta.txt\",\"a\")\n",
        "for post in posts:\n",
        "    file.write(post.selftext)\n",
        "    file.write(\"\\n\")"
      ],
      "metadata": {
        "id": "BW2NEO0F7fEA",
        "colab": {
          "base_uri": "https://localhost:8080/"
        },
        "outputId": "3616629e-74ea-4136-a148-9c4d7133b33f"
      },
      "execution_count": null,
      "outputs": [
        {
          "output_type": "stream",
          "name": "stderr",
          "text": [
            "WARNING:praw:It appears that you are using PRAW in an asynchronous environment.\n",
            "It is strongly recommended to use Async PRAW: https://asyncpraw.readthedocs.io.\n",
            "See https://praw.readthedocs.io/en/latest/getting_started/multiple_instances.html#discord-bots-and-asynchronous-environments for more info.\n",
            "\n"
          ]
        }
      ]
    },
    {
      "cell_type": "code",
      "source": [
        "subreddit = reddit.subreddit('siliconvalley')\n",
        "posts = subreddit.search(\"meta\", sort='new', time_filter='all')\n",
        "file = open(\"meta.txt\",\"a\")\n",
        "for post in posts:\n",
        "    file.write(post.selftext)\n",
        "    file.write(\"\\n\")"
      ],
      "metadata": {
        "id": "1Zm9lnWH8p7f",
        "colab": {
          "base_uri": "https://localhost:8080/"
        },
        "outputId": "0004c3e7-e6e4-43a3-9d6b-4228308812d5"
      },
      "execution_count": null,
      "outputs": [
        {
          "output_type": "stream",
          "name": "stderr",
          "text": [
            "WARNING:praw:It appears that you are using PRAW in an asynchronous environment.\n",
            "It is strongly recommended to use Async PRAW: https://asyncpraw.readthedocs.io.\n",
            "See https://praw.readthedocs.io/en/latest/getting_started/multiple_instances.html#discord-bots-and-asynchronous-environments for more info.\n",
            "\n"
          ]
        }
      ]
    },
    {
      "cell_type": "code",
      "source": [
        "subreddit = reddit.subreddit('AskReddit')\n",
        "posts = subreddit.search(\"meta\", sort='new', time_filter='all')\n",
        "file = open(\"meta.txt\",\"a\")\n",
        "for post in posts:\n",
        "    file.write(post.selftext)\n",
        "    file.write(\"\\n\")"
      ],
      "metadata": {
        "id": "lKVjtUkO848r",
        "colab": {
          "base_uri": "https://localhost:8080/"
        },
        "outputId": "0d6acf50-8f36-4606-9626-e7d439028001"
      },
      "execution_count": null,
      "outputs": [
        {
          "output_type": "stream",
          "name": "stderr",
          "text": [
            "WARNING:praw:It appears that you are using PRAW in an asynchronous environment.\n",
            "It is strongly recommended to use Async PRAW: https://asyncpraw.readthedocs.io.\n",
            "See https://praw.readthedocs.io/en/latest/getting_started/multiple_instances.html#discord-bots-and-asynchronous-environments for more info.\n",
            "\n"
          ]
        }
      ]
    },
    {
      "cell_type": "code",
      "source": [
        "subreddit = reddit.subreddit('jobs')\n",
        "posts = subreddit.search(\"meta\", sort='new', time_filter='all')\n",
        "file = open(\"meta.txt\",\"a\")\n",
        "for post in posts:\n",
        "    file.write(post.selftext)\n",
        "    file.write(\"\\n\")"
      ],
      "metadata": {
        "id": "icotomDA9eOC",
        "colab": {
          "base_uri": "https://localhost:8080/"
        },
        "outputId": "e63cc64a-f725-4cf0-f3f6-ae4bc06750e5"
      },
      "execution_count": null,
      "outputs": [
        {
          "output_type": "stream",
          "name": "stderr",
          "text": [
            "WARNING:praw:It appears that you are using PRAW in an asynchronous environment.\n",
            "It is strongly recommended to use Async PRAW: https://asyncpraw.readthedocs.io.\n",
            "See https://praw.readthedocs.io/en/latest/getting_started/multiple_instances.html#discord-bots-and-asynchronous-environments for more info.\n",
            "\n"
          ]
        }
      ]
    },
    {
      "cell_type": "code",
      "source": [
        "file = open(\"meta.txt\",\"r\")\n",
        "data = file.readlines()\n",
        "\n",
        "print(len(data))"
      ],
      "metadata": {
        "colab": {
          "base_uri": "https://localhost:8080/"
        },
        "id": "5MDOqK7a6NIq",
        "outputId": "e385dd1d-e440-41fe-aa8f-5bfc459de8cf"
      },
      "execution_count": null,
      "outputs": [
        {
          "output_type": "stream",
          "name": "stdout",
          "text": [
            "3130\n"
          ]
        }
      ]
    },
    {
      "cell_type": "markdown",
      "source": [
        "##Google Data Collection"
      ],
      "metadata": {
        "id": "wP0Zvmof-yOz"
      }
    },
    {
      "cell_type": "code",
      "source": [
        "subreddit = reddit.subreddit('AskReddit')\n",
        "posts = subreddit.search(\"google\", sort='new', time_filter='all')\n",
        "file = open(\"google.txt\",\"a\")\n",
        "for post in posts:\n",
        "    file.write(post.selftext)\n",
        "    file.write(\"\\n\")"
      ],
      "metadata": {
        "id": "AAwaD7q08_6v",
        "colab": {
          "base_uri": "https://localhost:8080/"
        },
        "outputId": "65678613-8efb-47d9-b828-c6fd645f5f84"
      },
      "execution_count": null,
      "outputs": [
        {
          "output_type": "stream",
          "name": "stderr",
          "text": [
            "WARNING:praw:It appears that you are using PRAW in an asynchronous environment.\n",
            "It is strongly recommended to use Async PRAW: https://asyncpraw.readthedocs.io.\n",
            "See https://praw.readthedocs.io/en/latest/getting_started/multiple_instances.html#discord-bots-and-asynchronous-environments for more info.\n",
            "\n"
          ]
        }
      ]
    },
    {
      "cell_type": "code",
      "source": [
        "subreddit = reddit.subreddit('cscareerquestions')\n",
        "posts = subreddit.search(\"google\", sort='new', time_filter='all')\n",
        "file = open(\"google.txt\",\"a\")\n",
        "for post in posts:\n",
        "    file.write(post.selftext)\n",
        "    file.write(\"\\n\")"
      ],
      "metadata": {
        "id": "3eOMlWjR9PzZ",
        "colab": {
          "base_uri": "https://localhost:8080/"
        },
        "outputId": "fcfba8a0-4c3f-4508-9eeb-1afdee2ec645"
      },
      "execution_count": null,
      "outputs": [
        {
          "output_type": "stream",
          "name": "stderr",
          "text": [
            "WARNING:praw:It appears that you are using PRAW in an asynchronous environment.\n",
            "It is strongly recommended to use Async PRAW: https://asyncpraw.readthedocs.io.\n",
            "See https://praw.readthedocs.io/en/latest/getting_started/multiple_instances.html#discord-bots-and-asynchronous-environments for more info.\n",
            "\n"
          ]
        }
      ]
    },
    {
      "cell_type": "code",
      "source": [
        "subreddit = reddit.subreddit('jobs')\n",
        "posts = subreddit.search(\"google\", sort='new', time_filter='all')\n",
        "file = open(\"google.txt\",\"a\")\n",
        "for post in posts:\n",
        "    file.write(post.selftext)\n",
        "    file.write(\"\\n\")"
      ],
      "metadata": {
        "id": "deZ8rzgD9lwW",
        "colab": {
          "base_uri": "https://localhost:8080/"
        },
        "outputId": "0cc1a77f-8b83-4c37-c841-824ac70f0b35"
      },
      "execution_count": null,
      "outputs": [
        {
          "output_type": "stream",
          "name": "stderr",
          "text": [
            "WARNING:praw:It appears that you are using PRAW in an asynchronous environment.\n",
            "It is strongly recommended to use Async PRAW: https://asyncpraw.readthedocs.io.\n",
            "See https://praw.readthedocs.io/en/latest/getting_started/multiple_instances.html#discord-bots-and-asynchronous-environments for more info.\n",
            "\n"
          ]
        }
      ]
    },
    {
      "cell_type": "code",
      "source": [
        "file = open(\"google.txt\",\"r\")\n",
        "data = file.readlines()\n",
        "\n",
        "print(len(data))"
      ],
      "metadata": {
        "colab": {
          "base_uri": "https://localhost:8080/"
        },
        "id": "CxQEY2IQ9Gkw",
        "outputId": "2f90d6f7-d166-4d67-93d6-1edc633c4992"
      },
      "execution_count": null,
      "outputs": [
        {
          "output_type": "stream",
          "name": "stdout",
          "text": [
            "2064\n"
          ]
        }
      ]
    },
    {
      "cell_type": "code",
      "source": [],
      "metadata": {
        "id": "YEiVXmYCzOo3"
      },
      "execution_count": null,
      "outputs": []
    }
  ]
}